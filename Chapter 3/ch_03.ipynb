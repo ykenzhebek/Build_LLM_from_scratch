{
 "cells": [
  {
   "cell_type": "code",
   "execution_count": 1,
   "metadata": {},
   "outputs": [
    {
     "name": "stdout",
     "output_type": "stream",
     "text": [
      "2.1.2+cu118\n"
     ]
    }
   ],
   "source": [
    "import torch\n",
    "print(torch.__version__)"
   ]
  },
  {
   "cell_type": "markdown",
   "metadata": {},
   "source": [
    "- This chapter covers attention mechanisms, the engine of LLMs:\n",
    "\n",
    "<img src=\"https://sebastianraschka.com/images/LLMs-from-scratch-images/ch03_compressed/01.webp\" width=\"700px\">,"
   ]
  },
  {
   "cell_type": "markdown",
   "metadata": {},
   "source": [
    "## 3.3 Attending to different parts of the input with self-attention"
   ]
  },
  {
   "cell_type": "markdown",
   "metadata": {},
   "source": [
    "### 3.3.1 A simple self-attention mechanism without trainable weights\n"
   ]
  },
  {
   "cell_type": "markdown",
   "metadata": {},
   "source": [
    "- This section explains a very simplified variant of self-attention, which does not contain any trainable weights\n",
    "- This is purely for illustration purposes and NOT the attention mechanism that is used in transformers\n",
    "- The next section, section 3.3.2, will extend this simple attention mechanism to implement the real self-attention mechanism\n",
    "\n",
    "<img src=\"https://sebastianraschka.com/images/LLMs-from-scratch-images/ch03_compressed/07.webp\" width=\"700px\">,"
   ]
  },
  {
   "cell_type": "code",
   "execution_count": 2,
   "metadata": {},
   "outputs": [
    {
     "name": "stdout",
     "output_type": "stream",
     "text": [
      "torch.Size([6, 3])\n",
      "tensor([[0.4300, 0.1500, 0.8900],\n",
      "        [0.5500, 0.8700, 0.6600],\n",
      "        [0.5700, 0.8500, 0.6400],\n",
      "        [0.2200, 0.5800, 0.3300],\n",
      "        [0.7700, 0.2500, 0.1000],\n",
      "        [0.0500, 0.8000, 0.5500]])\n"
     ]
    }
   ],
   "source": [
    "inputs = torch.tensor(\n",
    "    [\n",
    "        [0.43, 0.15, 0.89],  # Your     (x^1)\n",
    "        [0.55, 0.87, 0.66],  # journey  (x^2)\n",
    "        [0.57, 0.85, 0.64],  # starts   (x^3)\n",
    "        [0.22, 0.58, 0.33],  # with     (x^4)\n",
    "        [0.77, 0.25, 0.10],  # one      (x^5)\n",
    "        [0.05, 0.80, 0.55]   # step     (x^6)\n",
    "    ]\n",
    ")\n",
    "\n",
    "print(inputs.shape)\n",
    "print(inputs)"
   ]
  },
  {
   "cell_type": "markdown",
   "metadata": {},
   "source": [
    "- (In this book, we follow the common machine learning and deep learning convention where training examples are represented as rows and feature values as columns; in the case of the tensor shown above, each row represents a word, and each column represents an embedding dimension)\n",
    "\n",
    "- The primary objective of this section is to demonstrate how the context vector \n",
    " is calculated using the second input sequence, `x^(2)`, as a `query token`\n",
    "\n",
    "- The figure depicts the initial step in this process, which involves calculating the attention scores ω between \n",
    " x^(2) (`query`) and all other input elements through a dot product operation\n",
    "\n",
    "<img src=\"https://sebastianraschka.com/images/LLMs-from-scratch-images/ch03_compressed/08.webp\" width=\"700px\">,\n"
   ]
  },
  {
   "cell_type": "code",
   "execution_count": 5,
   "metadata": {},
   "outputs": [
    {
     "name": "stdout",
     "output_type": "stream",
     "text": [
      "query shape: torch.Size([3]) and attn_scores_2 shape: torch.Size([6])\n"
     ]
    },
    {
     "data": {
      "text/plain": [
       "(tensor([0.5500, 0.8700, 0.6600]), tensor([0., 0., 0., 0., 0., 0.]))"
      ]
     },
     "execution_count": 5,
     "metadata": {},
     "output_type": "execute_result"
    }
   ],
   "source": [
    "query = inputs[1]             # A\n",
    "attn_scores_2 = torch.empty(inputs.shape[0])\n",
    "\n",
    "print(f'query shape: {query.shape} and attn_scores_2 shape: {attn_scores_2.shape}')\n",
    "query, attn_scores_2\n",
    "\n",
    "#A The second input token serves as query"
   ]
  },
  {
   "cell_type": "code",
   "execution_count": 8,
   "metadata": {},
   "outputs": [
    {
     "name": "stdout",
     "output_type": "stream",
     "text": [
      "tensor([0.9544, 1.4950, 1.4754, 0.8434, 0.7070, 1.0865])\n",
      "attn_scores_2 shape:  torch.Size([6])\n"
     ]
    }
   ],
   "source": [
    "# computing attention scores\n",
    "for i, x_i in enumerate(inputs):\n",
    "    #print(x_i.shape)\n",
    "    attn_scores_2[i] = torch.dot(x_i, query)\n",
    "print(attn_scores_2)\n",
    "print(\"attn_scores_2 shape: \", attn_scores_2.shape)"
   ]
  },
  {
   "cell_type": "markdown",
   "metadata": {},
   "source": [
    "- In the context of self attention mechanisms, the dot product determines the extent to which elements in a\n",
    " sequence attend to each other: the higher the dot product, the higher the similarity and attention score between two elements."
   ]
  },
  {
   "cell_type": "markdown",
   "metadata": {},
   "source": [
    "In the next step, as shown in Figure 3.9, we normalize each of the attention scores that  we computed previously.\n",
    "\n",
    "<img src=\"https://sebastianraschka.com/images/LLMs-from-scratch-images/ch03_compressed/09.webp\" width=\"700px\">,\n",
    "\n",
    "**Figure 3.9** - After computing the attention scores ω21 to ω2T with respect to the input query x(2) , the next step is to obtain the attention weights α21 to α2T by normalizing the attention scores."
   ]
  },
  {
   "cell_type": "markdown",
   "metadata": {},
   "source": [
    "- The main goal behind the normalization shown in Figure 3.9 is to obtain attention weights that sum up to 1. This normalization is a convention that is useful for interpretation and for maintaining training stability in an LLM. Here's a straightforward method for achieving this normalization step:"
   ]
  },
  {
   "cell_type": "code",
   "execution_count": 9,
   "metadata": {},
   "outputs": [
    {
     "name": "stdout",
     "output_type": "stream",
     "text": [
      "Attention weights:  tensor([0.1455, 0.2278, 0.2249, 0.1285, 0.1077, 0.1656])\n",
      "Sum attn weights:  tensor(1.0000)\n"
     ]
    }
   ],
   "source": [
    "attn_weigths_2_tmp = attn_scores_2 / attn_scores_2.sum()\n",
    "print(\"Attention weights: \", attn_weigths_2_tmp)\n",
    "print(\"Sum attn weights: \", attn_weigths_2_tmp.sum())"
   ]
  },
  {
   "cell_type": "markdown",
   "metadata": {},
   "source": [
    "- In practice, it's more common and advisable to use the softmax function for normalization.\n",
    " This approach is better at managing extreme values and offers more favorable gradient\n",
    " properties during training. Below is a basic implementation of the softmax function for\n",
    " normalizing the attention scores:"
   ]
  },
  {
   "cell_type": "code",
   "execution_count": 11,
   "metadata": {},
   "outputs": [
    {
     "name": "stdout",
     "output_type": "stream",
     "text": [
      "Attention weights:  tensor([0.1385, 0.2379, 0.2333, 0.1240, 0.1082, 0.1581])\n",
      "Sum attn weights:  tensor(1.)\n"
     ]
    }
   ],
   "source": [
    "def softmax_naive(x):\n",
    "    return torch.exp(x) / torch.exp(x).sum(dim=0)\n",
    "\n",
    "attn_weigths_2_naive = softmax_naive(attn_scores_2)\n",
    "print(\"Attention weights: \", attn_weigths_2_naive)\n",
    "print(\"Sum attn weights: \", attn_weigths_2_naive.sum())"
   ]
  },
  {
   "cell_type": "markdown",
   "metadata": {},
   "source": [
    "- In addition, the softmax function ensures that the attention weights are always positive.\n",
    " This makes the output interpretable as probabilities or relative importance, where higher\n",
    " weights indicate greater importance.\n",
    "\n",
    "- Note that this naive softmax implementation (softmax_naive) may encounter numerical\n",
    " instability problems, such as overflow and underflow, when dealing with large or small input\n",
    " values. Therefore, in practice, it's advisable to use the PyTorch implementation of softmax,\n",
    " which has been extensively optimized for performance:"
   ]
  },
  {
   "cell_type": "code",
   "execution_count": 12,
   "metadata": {},
   "outputs": [
    {
     "name": "stdout",
     "output_type": "stream",
     "text": [
      "Attention weights:  tensor([0.1385, 0.2379, 0.2333, 0.1240, 0.1082, 0.1581])\n",
      "Sum attn weights:  tensor(1.)\n"
     ]
    }
   ],
   "source": [
    "attn_weigths_2 = torch.softmax(attn_scores_2, dim=0)\n",
    "print(\"Attention weights: \", attn_weigths_2)\n",
    "print(\"Sum attn weights: \", attn_weigths_2.sum())"
   ]
  },
  {
   "cell_type": "markdown",
   "metadata": {},
   "source": [
    "- Now that we computed the normalized attention weights, we are ready for the final step\n",
    " illustrated in Figure 3.10: calculating the context vector z(2) by multiplying the embedded\n",
    " input tokens, x(i), with the corresponding attention weights and then summing the resulting\n",
    " vectors.\n",
    "\n",
    " <img src=\"https://sebastianraschka.com/images/LLMs-from-scratch-images/ch03_compressed/10.webp\" width=\"700px\">,\n",
    "\n",
    "  **Figure 3.10** The final step, after calculating and normalizing the attention scores to obtain the attention\n",
    " weights for query x(2) , is to compute the context vector z(2) . This context vector is a combination of all input\n",
    " vectors x(1) to x(T) weighted by the attention weights.\n"
   ]
  },
  {
   "cell_type": "code",
   "execution_count": 14,
   "metadata": {},
   "outputs": [
    {
     "name": "stdout",
     "output_type": "stream",
     "text": [
      "iteartion i = 0 : tensor([0.0596, 0.0208, 0.1233])\n",
      "iteartion i = 1 : tensor([0.1904, 0.2277, 0.2803])\n",
      "iteartion i = 2 : tensor([0.3234, 0.4260, 0.4296])\n",
      "iteartion i = 3 : tensor([0.3507, 0.4979, 0.4705])\n",
      "iteartion i = 4 : tensor([0.4340, 0.5250, 0.4813])\n",
      "iteartion i = 5 : tensor([0.4419, 0.6515, 0.5683])\n",
      "tensor([0.4419, 0.6515, 0.5683])\n"
     ]
    }
   ],
   "source": [
    "query = inputs[1]  # 2nd input token is the query\n",
    "context_vec_2 = torch.zeros(query.shape)\n",
    "for i, x_i in enumerate(inputs):\n",
    "    context_vec_2 += attn_weigths_2[i] * x_i\n",
    "    print(f'iteartion i = {i} : {context_vec_2}')\n",
    "print(context_vec_2)"
   ]
  },
  {
   "cell_type": "markdown",
   "metadata": {},
   "source": [
    "### 3.3.2 Computing attention weights for all input tokens"
   ]
  },
  {
   "cell_type": "markdown",
   "metadata": {},
   "source": [
    " In the previous section, we computed `attention weights` and the `context vector for input 2`,\n",
    " as shown in the highlighted row in Figure 3.11. Now, we are extending this computation to\n",
    " calculate attention weights and context vectors for all inputs.\n",
    " \n",
    "  <img src=\"https://sebastianraschka.com/images/LLMs-from-scratch-images/ch03_compressed/11.webp\" width=\"700px\">,\n"
   ]
  },
  {
   "cell_type": "markdown",
   "metadata": {},
   "source": [
    " We follow the same three steps as before, as summarized in Figure 3.12, except that we\n",
    " make a few modifications in the code to compute all context vectors instead of only the\n",
    " second context vector, z(2).\n",
    "\n",
    "   <img src=\"https://sebastianraschka.com/images/LLMs-from-scratch-images/ch03_compressed/12.webp\" width=\"700px\">,\n"
   ]
  },
  {
   "cell_type": "markdown",
   "metadata": {},
   "source": [
    "- **Step 1:** `compute attention scores for all pairs of inputs`"
   ]
  },
  {
   "cell_type": "code",
   "execution_count": 16,
   "metadata": {},
   "outputs": [
    {
     "name": "stdout",
     "output_type": "stream",
     "text": [
      "tensor([[0.9995, 0.9544, 0.9422, 0.4753, 0.4576, 0.6310],\n",
      "        [0.9544, 1.4950, 1.4754, 0.8434, 0.7070, 1.0865],\n",
      "        [0.9422, 1.4754, 1.4570, 0.8296, 0.7154, 1.0605],\n",
      "        [0.4753, 0.8434, 0.8296, 0.4937, 0.3474, 0.6565],\n",
      "        [0.4576, 0.7070, 0.7154, 0.3474, 0.6654, 0.2935],\n",
      "        [0.6310, 1.0865, 1.0605, 0.6565, 0.2935, 0.9450]])\n"
     ]
    }
   ],
   "source": [
    "attn_scores = torch.empty(6, 6)\n",
    "for i, x_i in enumerate(inputs):\n",
    "    for j, x_j in enumerate(inputs):\n",
    "        attn_scores[i, j] = torch.dot(x_i, x_j)\n",
    "print(attn_scores)"
   ]
  },
  {
   "cell_type": "markdown",
   "metadata": {},
   "source": [
    "- When computing the preceding attention score tensor, we used for-loops in Python.\n",
    " However, for-loops are generally slow, and we can achieve the same results using matrix\n",
    " multiplication:"
   ]
  },
  {
   "cell_type": "code",
   "execution_count": 18,
   "metadata": {},
   "outputs": [
    {
     "name": "stdout",
     "output_type": "stream",
     "text": [
      "tensor([[0.9995, 0.9544, 0.9422, 0.4753, 0.4576, 0.6310],\n",
      "        [0.9544, 1.4950, 1.4754, 0.8434, 0.7070, 1.0865],\n",
      "        [0.9422, 1.4754, 1.4570, 0.8296, 0.7154, 1.0605],\n",
      "        [0.4753, 0.8434, 0.8296, 0.4937, 0.3474, 0.6565],\n",
      "        [0.4576, 0.7070, 0.7154, 0.3474, 0.6654, 0.2935],\n",
      "        [0.6310, 1.0865, 1.0605, 0.6565, 0.2935, 0.9450]])\n"
     ]
    }
   ],
   "source": [
    "attn_scores = inputs @ inputs.T  # shape(6, 3) * (3, 6) = output shape(6, 6)\n",
    "print(attn_scores)"
   ]
  },
  {
   "cell_type": "markdown",
   "metadata": {},
   "source": [
    "- **Step 2:** we now normalize each row so that the values in each row sum to 1:"
   ]
  },
  {
   "cell_type": "code",
   "execution_count": 19,
   "metadata": {},
   "outputs": [
    {
     "name": "stdout",
     "output_type": "stream",
     "text": [
      "tensor([[0.2098, 0.2006, 0.1981, 0.1242, 0.1220, 0.1452],\n",
      "        [0.1385, 0.2379, 0.2333, 0.1240, 0.1082, 0.1581],\n",
      "        [0.1390, 0.2369, 0.2326, 0.1242, 0.1108, 0.1565],\n",
      "        [0.1435, 0.2074, 0.2046, 0.1462, 0.1263, 0.1720],\n",
      "        [0.1526, 0.1958, 0.1975, 0.1367, 0.1879, 0.1295],\n",
      "        [0.1385, 0.2184, 0.2128, 0.1420, 0.0988, 0.1896]])\n"
     ]
    }
   ],
   "source": [
    "attn_weights = torch.softmax(attn_scores, dim=-1)\n",
    "print(attn_weights)"
   ]
  },
  {
   "cell_type": "markdown",
   "metadata": {},
   "source": [
    "- In the context of using PyTorch, the dim parameter in functions like torch.softmax specifies\n",
    " the dimension of the input tensor along which the function will be computed. By setting\n",
    " dim=-1, we are instructing the softmax function to apply the normalization along the last\n",
    " dimension of the attn_scores tensor. If attn_scores is a 2D tensor (for example, with a\n",
    " shape of [rows, columns]), dim=-1 will normalize across the columns so that the values in\n",
    " each row (summing over the column dimension) sum up to 1."
   ]
  },
  {
   "cell_type": "code",
   "execution_count": 20,
   "metadata": {},
   "outputs": [
    {
     "name": "stdout",
     "output_type": "stream",
     "text": [
      "row_2_sum: 1.0\n",
      "All row sums: tensor([1.0000, 1.0000, 1.0000, 1.0000, 1.0000, 1.0000])\n"
     ]
    }
   ],
   "source": [
    "row_2_sum = sum( [0.1385, 0.2379, 0.2333, 0.1240, 0.1082, 0.1581])\n",
    "print(f'row_2_sum: {row_2_sum}')\n",
    "print(f'All row sums: {attn_weights.sum(dim=-1)}')"
   ]
  },
  {
   "cell_type": "markdown",
   "metadata": {},
   "source": [
    "- **Step 3:** Using these attention weights we compute all context vectors via matrix multiplicaiton:"
   ]
  },
  {
   "cell_type": "code",
   "execution_count": 21,
   "metadata": {},
   "outputs": [
    {
     "name": "stdout",
     "output_type": "stream",
     "text": [
      "tensor([[0.4421, 0.5931, 0.5790],\n",
      "        [0.4419, 0.6515, 0.5683],\n",
      "        [0.4431, 0.6496, 0.5671],\n",
      "        [0.4304, 0.6298, 0.5510],\n",
      "        [0.4671, 0.5910, 0.5266],\n",
      "        [0.4177, 0.6503, 0.5645]])\n"
     ]
    }
   ],
   "source": [
    "all_context_vectors = attn_weights @ inputs\n",
    "print(all_context_vectors)"
   ]
  },
  {
   "cell_type": "markdown",
   "metadata": {},
   "source": [
    "- We can double-check that the code is correct by comparing the 2nd row with the context\n",
    " vector z(2) that we computed previously in section 3.3.1:"
   ]
  },
  {
   "cell_type": "code",
   "execution_count": 22,
   "metadata": {},
   "outputs": [
    {
     "name": "stdout",
     "output_type": "stream",
     "text": [
      "Previous 2nd context vector:  tensor([0.4419, 0.6515, 0.5683])\n"
     ]
    }
   ],
   "source": [
    "print(\"Previous 2nd context vector: \", context_vec_2)"
   ]
  },
  {
   "cell_type": "markdown",
   "metadata": {},
   "source": [
    "-  Based on the result, we can see that the previously calculated context_vec_2 matches the\n",
    " second row in the previous tensor exactly:"
   ]
  },
  {
   "cell_type": "markdown",
   "metadata": {},
   "source": [
    "> Note:\n",
    "This concludes the code walkthrough of a simple self-attention mechanism. In the next\n",
    " section, we will add trainable weights, enabling the LLM to learn from data and improve its\n",
    " performance on specific tasks."
   ]
  },
  {
   "cell_type": "markdown",
   "metadata": {},
   "source": [
    "## 3.4 Implementing self-attention with trainable weights"
   ]
  },
  {
   "cell_type": "markdown",
   "metadata": {},
   "source": [
    "- In this section, we are implementing the self-attention mechanism that is used in the\n",
    " original transformer architecture, the GPT models, and most other popular LLMs. This self\n",
    "attention mechanism is also called scaled dot-product attention. Figure 3.13 provides a\n",
    " mental model illustrating how this self-attention mechanism fits into the broader context of\n",
    " implementing an LLM.\n",
    "\n",
    "    <img src=\"https://sebastianraschka.com/images/LLMs-from-scratch-images/ch03_compressed/13.webp\" width=\"700px\">,\n"
   ]
  },
  {
   "cell_type": "markdown",
   "metadata": {},
   "source": [
    " - The most notable difference is the introduction of weight matrices that are updated\n",
    " during model training. These trainable weight matrices are crucial so that the model\n",
    " (specifically, the attention module inside the model) can learn to produce \"good\" context\n",
    " vectors. (Note that we will train the LLM in chapter 5.)\n",
    " \n",
    " - We will tackle this self-attention mechanism in the two subsections. First, we will code it\n",
    " step-by-step as before. Second, we will organize the code into a compact Python class that\n",
    " can be imported into an LLM architecture, which we will code in chapter 4."
   ]
  },
  {
   "cell_type": "markdown",
   "metadata": {},
   "source": [
    "### 3.4.1 Computing the attention weights step by step"
   ]
  },
  {
   "cell_type": "markdown",
   "metadata": {},
   "source": [
    "- We will implement the self-attention mechanism step by step by introducing the three\n",
    " trainable weight matrices Wq, Wk, and Wv. These three matrices are used to project the\n",
    " embedded input tokens, x(i), into query, key, and value vectors as illustrated in Figure 3.14.\n",
    "\n",
    "    <img src=\"https://sebastianraschka.com/images/LLMs-from-scratch-images/ch03_compressed/14.webp\" width=\"700px\">,\n",
    "\n",
    "- Figure 3.14 In the first step of the self-attention mechanism with trainable weight matrices, we compute query\n",
    " (q), key (k), and value (v) vectors for input elements x. Similar to previous sections, we designate the second\n",
    " input, x(2) , as the query input. The query vector q(2) is obtained via matrix multiplication between the input x(2)\n",
    " and the weight matrix Wq.  Similarly, we obtain the key and value vectors via matrix multiplication involving the\n",
    " weight matrices Wk and Wv"
   ]
  },
  {
   "cell_type": "markdown",
   "metadata": {},
   "source": [
    "- Earlier in section 3.3.1, we defined the second input element x(2) as the query when we\n",
    " computed the simplified attention weights to compute the context vector z(2). Later, in\n",
    " section 3.3.2, we generalized this to compute all context vectors z(1) ... z(T) for the six\n",
    "word input sentence \"Your journey starts with one step.\"\n",
    "\n",
    "- Similarly, we will start by computing only one context vector, z(2), for illustration\n",
    " purposes. In the next section, we will modify this code to calculate all context vectors"
   ]
  },
  {
   "cell_type": "code",
   "execution_count": 23,
   "metadata": {},
   "outputs": [],
   "source": [
    "x_2 = inputs[1]             #A\n",
    "d_in = inputs.shape[1]      #B\n",
    "d_out = 2                   #C\n",
    "\n",
    "#A The second input element\n",
    "#B The input embedding size, d = 3\n",
    "#C The output embedding size, d_out = 2"
   ]
  },
  {
   "cell_type": "markdown",
   "metadata": {},
   "source": [
    "> Note that in GPT-like models, the input and output dimensions are usually the same, but for\n",
    " illustration purposes, to better follow the computation, we choose different input (d_in=3)\n",
    " and output (d_out=2) dimensions here."
   ]
  },
  {
   "cell_type": "markdown",
   "metadata": {},
   "source": [
    "- Next, we initialize the three weight matrices Wq, Wk, and Wv that are shown in Figure 3.14\n"
   ]
  },
  {
   "cell_type": "code",
   "execution_count": 24,
   "metadata": {},
   "outputs": [],
   "source": [
    "torch.manual_seed(123)\n",
    "W_query = torch.nn.Parameter(torch.rand(d_in, d_out), requires_grad=False)\n",
    "W_key = torch.nn.Parameter(torch.rand(d_in, d_out), requires_grad=False)\n",
    "W_value = torch.nn.Parameter(torch.rand(d_in, d_out), requires_grad=False)"
   ]
  },
  {
   "cell_type": "markdown",
   "metadata": {},
   "source": [
    ">Note that we are setting requires_grad=False to reduce clutter in the outputs for\n",
    " illustration purposes, but if we were to use the weight matrices for model training, we\n",
    " would set requires_grad=True to update these matrices during model training."
   ]
  },
  {
   "cell_type": "markdown",
   "metadata": {},
   "source": [
    "- Next, we compute the query, key, and value vectors as shown earlier in Figure 3.14:\n"
   ]
  },
  {
   "cell_type": "code",
   "execution_count": 25,
   "metadata": {},
   "outputs": [
    {
     "name": "stdout",
     "output_type": "stream",
     "text": [
      "tensor([0.4306, 1.4551])\n"
     ]
    }
   ],
   "source": [
    "query_2 = x_2 @ W_query\n",
    "key_2 = x_2 @ W_key\n",
    "value_2 = x_2 @ W_value\n",
    "print(query_2)"
   ]
  },
  {
   "cell_type": "markdown",
   "metadata": {},
   "source": [
    "**WEIGHT PARAMETERS VS ATTENTION WEIGHTS**\n",
    "\n",
    "- Note that in the weight matrices W, the term \"weight\" is short for \"weight\n",
    " parameters,\" the values of a neural network that are optimized during training. This\n",
    " is not to be confused with the attention weights. As we already saw in the previous\n",
    " section, attention weights determine the extent to which a context vector depends on\n",
    " the different parts of the input, i.e., to what extent the network focuses on different\n",
    " parts of the input.\n",
    "\n",
    "- In summary, weight parameters are the fundamental, learned coefficients that define\n",
    " the network's connections, while attention weights are dynamic, context-specific\n",
    " values."
   ]
  },
  {
   "cell_type": "markdown",
   "metadata": {},
   "source": [
    "- Even though our temporary goal is to only compute the one context vector, z(2), we still\n",
    " `require the key and value vectors for all input elements` `as they are involved in computing\n",
    " the attention weights with respect to the query q(2)`, as illustrated in Figure 3.14.\n",
    "    \n",
    "    We can obtain all keys and values via matrix multiplication:"
   ]
  },
  {
   "cell_type": "code",
   "execution_count": 26,
   "metadata": {},
   "outputs": [
    {
     "name": "stdout",
     "output_type": "stream",
     "text": [
      "keys.shape: torch.Size([6, 2])\n",
      "values.shape: torch.Size([6, 2])\n"
     ]
    }
   ],
   "source": [
    "keys = inputs @ W_key\n",
    "values = inputs @ W_value\n",
    "print(f'keys.shape: {keys.shape}')\n",
    "print(f'values.shape: {values.shape}')"
   ]
  },
  {
   "cell_type": "markdown",
   "metadata": {},
   "source": [
    "- The second step is now to compute the attention scores, as shown in Figure 3.15.\n",
    "\n",
    "    <img src=\"https://sebastianraschka.com/images/LLMs-from-scratch-images/ch03_compressed/15.webp\" width=\"700px\">,\n",
    "\n",
    "- Figure 3.15 The attention score computation is a dot-product computation similar to what we have used in the\n",
    " simplified self-attention mechanism in section 3.3. The new aspect here is that we are not directly computing\n",
    " the dot-product between the input elements but using the query and key obtained by transforming the inputs\n",
    " via the respective weight matrices. "
   ]
  },
  {
   "cell_type": "markdown",
   "metadata": {},
   "source": [
    " First, let's compute the attention score ω22:"
   ]
  },
  {
   "cell_type": "code",
   "execution_count": 27,
   "metadata": {},
   "outputs": [
    {
     "name": "stdout",
     "output_type": "stream",
     "text": [
      "tensor(1.8524)\n"
     ]
    }
   ],
   "source": [
    "keys_2 = keys[1]\n",
    "attn_scores_22 = query_2.dot(keys_2)\n",
    "print(attn_scores_22)"
   ]
  },
  {
   "cell_type": "markdown",
   "metadata": {},
   "source": [
    "- Again, we can generalize this computation to all attention scores via matrix multiplication:\n"
   ]
  },
  {
   "cell_type": "code",
   "execution_count": 29,
   "metadata": {},
   "outputs": [
    {
     "name": "stdout",
     "output_type": "stream",
     "text": [
      "tensor([1.2705, 1.8524, 1.8111, 1.0795, 0.5577, 1.5440])\n"
     ]
    }
   ],
   "source": [
    "attn_scores_2 = query_2 @ keys.T # All attention scores for given query_2 (2) @ (2, 6) => (6)\n",
    "print(attn_scores_2)"
   ]
  },
  {
   "cell_type": "code",
   "execution_count": 30,
   "metadata": {},
   "outputs": [
    {
     "data": {
      "text/plain": [
       "torch.Size([6])"
      ]
     },
     "execution_count": 30,
     "metadata": {},
     "output_type": "execute_result"
    }
   ],
   "source": [
    "attn_scores_2.shape"
   ]
  },
  {
   "cell_type": "markdown",
   "metadata": {},
   "source": [
    "- The third step is now going from the attention scores to the attention weights, as illustrated\n",
    " in Figure 3.16.\n",
    "\n",
    "    <img src=\"https://sebastianraschka.com/images/LLMs-from-scratch-images/ch03_compressed/16.webp\" width=\"700px\">,\n",
    "\n",
    "- Normalize these attention scores using softmax"
   ]
  },
  {
   "cell_type": "markdown",
   "metadata": {},
   "source": [
    "- The difference to earlier is  that we now scale the attention scores by dividing them by the square root of the\n",
    " embedding dimension of the keys, (note that taking the square root is mathematically the\n",
    " same as exponentiating by 0.5)"
   ]
  },
  {
   "cell_type": "code",
   "execution_count": 31,
   "metadata": {},
   "outputs": [
    {
     "name": "stdout",
     "output_type": "stream",
     "text": [
      "tensor([0.1500, 0.2264, 0.2199, 0.1311, 0.0906, 0.1820])\n"
     ]
    }
   ],
   "source": [
    "d_k = keys.shape[-1]  # taking embedding dimension\n",
    "attn_weights_2 = torch.softmax(attn_scores_2 / d_k**0.5, dim=-1)\n",
    "print(attn_weights_2)"
   ]
  },
  {
   "cell_type": "markdown",
   "metadata": {},
   "source": [
    " > THE RATIONALE BEHIND SCALED-DOT PRODUCT ATTENTION\n",
    " \n",
    "- The reason for the normalization by the embedding dimension size is to improve the\n",
    " training performance by avoiding small gradients. For instance, when scaling up the\n",
    " embedding dimension, which is typically greater than thousand for GPT-like LLMs,\n",
    " large dot products can result in very small gradients during backpropagation due to\n",
    " the softmax function applied to them. As dot products increase, the softmax function\n",
    " behaves more like a step function, resulting in gradients nearing zero. These small\n",
    " gradients can drastically slow down learning or cause training to stagnate.\n",
    " \n",
    " - The scaling by the square root of the embedding dimension is the reason why this\n",
    " self-attention mechanism is also called scaled-dot product attention."
   ]
  },
  {
   "cell_type": "markdown",
   "metadata": {},
   "source": [
    "- Now, the final step is to compute the context vectors, as illustrated in Figure 3.17.\n",
    "\n",
    "    <img src=\"https://sebastianraschka.com/images/LLMs-from-scratch-images/ch03_compressed/17.webp\" width=\"700px\">,\n",
    "\n",
    "- **In the final step of the self-attention computation, we compute the context vector by combining all  value vectors via the attention weights**"
   ]
  },
  {
   "cell_type": "markdown",
   "metadata": {},
   "source": [
    " - Similar to section 3.3, where we computed the context vector as a weighted sum over the\n",
    " input vectors, we now compute the context vector as a weighted sum over the value\n",
    " vectors. Here, the attention weights serve as a weighting factor that weighs the respective\n",
    " importance of each value vector. Similar to section 3.3, we can use matrix multiplication to\n",
    " obtain the output in one step"
   ]
  },
  {
   "cell_type": "code",
   "execution_count": 32,
   "metadata": {},
   "outputs": [
    {
     "name": "stdout",
     "output_type": "stream",
     "text": [
      "Shape of attn_weights_2: torch.Size([6])\n",
      "Shape of values: torch.Size([6, 2])\n"
     ]
    }
   ],
   "source": [
    "print(f'Shape of attn_weights_2: {attn_weights_2.shape}')\n",
    "print(f'Shape of values: {values.shape}')"
   ]
  },
  {
   "cell_type": "code",
   "execution_count": 33,
   "metadata": {},
   "outputs": [
    {
     "name": "stdout",
     "output_type": "stream",
     "text": [
      "tensor([0.3061, 0.8210])\n"
     ]
    }
   ],
   "source": [
    "context_vec_2 = attn_weights_2 @ values\n",
    "print(context_vec_2)"
   ]
  },
  {
   "cell_type": "markdown",
   "metadata": {},
   "source": [
    "- So far, we only computed a `single context vector, z(2)`. In the next section, we will generalize the code to compute `all context vectors` in the input sequence, `z(1) to z(T)`."
   ]
  },
  {
   "cell_type": "markdown",
   "metadata": {},
   "source": [
    "> WHY QUERY, KEY, AND VALUE?\n",
    " \n",
    "- The terms \"key,\" \"query,\" and \"value\" in the context of attention mechanisms are\n",
    " borrowed from the domain of information retrieval and databases, where similar\n",
    " concepts are used to store, search, and retrieve information.\n",
    " \n",
    "- A \"query\" is analogous to a search query in a database. It represents the current\n",
    " item (e.g., a word or token in a sentence) the model focuses on or tries to\n",
    " understand. The query is used to probe the other parts of the input sequence to\n",
    " determine how much attention to pay to them.\n",
    "\n",
    "- The \"key\" is like a database key used for indexing and searching. In the attention\n",
    " mechanism, each item in the input sequence (e.g., each word in a sentence) has an\n",
    " associated key. These keys are used to match with the query.\n",
    "\n",
    "- The \"value\" in this context is similar to the value in a key-value pair in a database. It\n",
    " represents the actual content or representation of the input items. Once the model\n",
    " determines which keys (and thus which parts of the input) are most relevant to the\n",
    " query (the current focus item), it retrieves the corresponding values."
   ]
  },
  {
   "cell_type": "markdown",
   "metadata": {},
   "source": [
    "### 3.4.2 Implementing a compact self-attention Python class"
   ]
  },
  {
   "cell_type": "markdown",
   "metadata": {},
   "source": [
    "- In the previous sections, we have gone through a lot of steps to compute the self-attention\n",
    " outputs. This was mainly done for illustration purposes so we could go through one step at\n",
    " a time. In practice, with the LLM implementation in the next chapter in mind, it is helpful to\n",
    " organize this code into a Python class as follows:"
   ]
  },
  {
   "cell_type": "code",
   "execution_count": 34,
   "metadata": {},
   "outputs": [],
   "source": [
    "# A compact self-attention class\n",
    "import torch.nn as nn\n",
    "class SelfAttention_v1(nn.Module):\n",
    "    def __init__(self, d_in, d_out):\n",
    "        super().__init__()\n",
    "        self.d_out = d_out\n",
    "        self.W_query = nn.Parameter(torch.rand(d_in, d_out))\n",
    "        self.W_key = nn.Parameter(torch.rand(d_in, d_out))\n",
    "        self.W_value = nn.Parameter(torch.rand(d_in, d_out))\n",
    "\n",
    "    def forward(self, x):\n",
    "        keys = x @ self.W_key\n",
    "        queries = x @ self.W_query\n",
    "        values = x @ self.W_value\n",
    "        attn_scores = queries @ keys.T # omega\n",
    "        attn_weights = torch.softmax(\n",
    "            attn_scores / keys.shape[-1]**0.5, dim=-1)\n",
    "        context_vec = attn_weights @ values\n",
    "        return context_vec        "
   ]
  },
  {
   "cell_type": "markdown",
   "metadata": {},
   "source": [
    "- The __init__ method initializes trainable weight matrices (W_query, W_key, and\n",
    " W_value) for queries, keys, and values, each transforming the input dimension d_in to an\n",
    " output dimension d_out.\n",
    "\n",
    "- During the forward pass, using the forward method, we compute the attention scores\n",
    " (attn_scores) by multiplying queries and keys, normalizing these scores using softmax.\n",
    " Finally, we create a context vector by weighting the values with these normalized attention\n",
    " scores"
   ]
  },
  {
   "cell_type": "code",
   "execution_count": 35,
   "metadata": {},
   "outputs": [
    {
     "name": "stdout",
     "output_type": "stream",
     "text": [
      "tensor([[0.2996, 0.8053],\n",
      "        [0.3061, 0.8210],\n",
      "        [0.3058, 0.8203],\n",
      "        [0.2948, 0.7939],\n",
      "        [0.2927, 0.7891],\n",
      "        [0.2990, 0.8040]], grad_fn=<MmBackward0>)\n"
     ]
    }
   ],
   "source": [
    "torch.manual_seed(123)\n",
    "sa_v1 = SelfAttention_v1(d_in, d_out)  # d_in = 3, d_out = 2\n",
    "print(sa_v1(inputs))"
   ]
  },
  {
   "cell_type": "code",
   "execution_count": 36,
   "metadata": {},
   "outputs": [
    {
     "name": "stdout",
     "output_type": "stream",
     "text": [
      "tensor([0.3061, 0.8210])\n"
     ]
    }
   ],
   "source": [
    "print(context_vec_2)"
   ]
  },
  {
   "cell_type": "markdown",
   "metadata": {},
   "source": [
    "- Figure 3.18 summarizes the self-attention mechanism we just implemented.\n",
    "\n",
    "    <img src=\"https://sebastianraschka.com/images/LLMs-from-scratch-images/ch03_compressed/18.webp\" width=\"700px\">,\n",
    "\n",
    "- In self-attention, we transform the input vectors in the input matrix X with the three weight\n",
    " matrices, Wq, Wk, and Wv. Then, we compute the attention weight matrix based on the resulting queries `(Q)`\n",
    " and keys `(K)`. Using the attention weights and values `(V)`, we then compute the context vectors (Z). (For visual\n",
    " clarity, we focus on a single input text with n tokens in this figure, not a batch of multiple inputs. Consequently,\n",
    " the 3D input tensor is simplified to a 2D matrix in this context. This approach allows for a more straightforward\n",
    " visualization and understanding of the processes involved. Also, for consistency with later figures, the values in\n",
    " the attention matrix do not depict the real attention weights.)"
   ]
  },
  {
   "cell_type": "markdown",
   "metadata": {},
   "source": [
    "- As shown in Figure 3.18, self-attention involves the trainable weight matrices Wq, Wk, and\n",
    " Wv. These matrices transform input data into queries, keys, and values, which are crucial\n",
    " components of the attention mechanism. As the model is exposed to more data during\n",
    " training, it adjusts these trainable weights, as we will see in upcoming chapters.\n",
    "\n",
    "- We can improve the SelfAttention_v1 implementation further by utilizing PyTorch's\n",
    " nn.Linear layers, which effectively perform matrix multiplication when the bias units are\n",
    " disabled. Additionally, a significant advantage of using nn.Linear instead of manually\n",
    " implementing nn.Parameter(torch.rand(...)) is that nn.Linear has an optimized weight\n",
    " initialization scheme, contributing to more stable and effective model training"
   ]
  },
  {
   "cell_type": "code",
   "execution_count": 37,
   "metadata": {},
   "outputs": [],
   "source": [
    "class SelfAttention_v2(nn.Module):\n",
    "    def __init__(self, d_in, d_out, qkv_bias=False):\n",
    "        super().__init__()\n",
    "        self.d_out = d_out\n",
    "        self.W_query = nn.Linear(d_in, d_out, bias=qkv_bias)\n",
    "        self.W_key = nn.Linear(d_in, d_out, bias=qkv_bias)\n",
    "        self.W_value = nn.Linear(d_in, d_out, bias=qkv_bias)\n",
    "    \n",
    "    def forward(self, x):\n",
    "        keys = self.W_key(x)\n",
    "        queries = self.W_query(x)\n",
    "        values = self.W_value(x)\n",
    "        attn_scores = queries @ keys.T\n",
    "        attn_weights = torch.softmax(attn_scores/keys.shape[-1]**0.5, dim=-1)\n",
    "        context_vec = attn_weights @ values\n",
    "        return context_vec"
   ]
  },
  {
   "cell_type": "code",
   "execution_count": 39,
   "metadata": {},
   "outputs": [
    {
     "name": "stdout",
     "output_type": "stream",
     "text": [
      "tensor([[-0.0739,  0.0713],\n",
      "        [-0.0748,  0.0703],\n",
      "        [-0.0749,  0.0702],\n",
      "        [-0.0760,  0.0685],\n",
      "        [-0.0763,  0.0679],\n",
      "        [-0.0754,  0.0693]], grad_fn=<MmBackward0>)\n"
     ]
    }
   ],
   "source": [
    "torch.manual_seed(789)\n",
    "sa_v2 = SelfAttention_v2(d_in, d_out)\n",
    "print(sa_v2(inputs))"
   ]
  },
  {
   "cell_type": "markdown",
   "metadata": {},
   "source": [
    "> Note that SelfAttention_v1 and SelfAttention_v2 give different outputs because they use different initial weights for the weight matrices since nn.Linear uses a more  sophisticated weight initialization scheme."
   ]
  },
  {
   "cell_type": "code",
   "execution_count": null,
   "metadata": {},
   "outputs": [],
   "source": []
  }
 ],
 "metadata": {
  "kernelspec": {
   "display_name": "env",
   "language": "python",
   "name": "python3"
  },
  "language_info": {
   "codemirror_mode": {
    "name": "ipython",
    "version": 3
   },
   "file_extension": ".py",
   "mimetype": "text/x-python",
   "name": "python",
   "nbconvert_exporter": "python",
   "pygments_lexer": "ipython3",
   "version": "3.10.11"
  }
 },
 "nbformat": 4,
 "nbformat_minor": 2
}
